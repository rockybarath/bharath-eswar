{
 "cells": [
  {
   "cell_type": "markdown",
   "id": "b4afbb9a-a27b-4e9a-92e2-360ca499e961",
   "metadata": {},
   "source": [
    "ROTATION"
   ]
  },
  {
   "cell_type": "code",
   "execution_count": 1,
   "id": "842c4552-6601-4da7-a5e3-7ebc530051ec",
   "metadata": {},
   "outputs": [],
   "source": [
    "import cv2\n",
    "import numpy as np"
   ]
  },
  {
   "cell_type": "code",
   "execution_count": 2,
   "id": "71662f2a-708e-4245-966a-ab19e41549a2",
   "metadata": {},
   "outputs": [
    {
     "name": "stdout",
     "output_type": "stream",
     "text": [
      "(220, 331, 3)\n",
      "220\n",
      "331\n"
     ]
    }
   ],
   "source": [
    "image = cv2.imread(\"C:\\\\Users\\\\ADMIN\\\\faizal final sem\\\\th (2).jpeg\")\n",
    "shp=image.shape\n",
    "print(shp)\n",
    "height,width=image.shape[:2]\n",
    "print(height)\n",
    "print(width)\n"
   ]
  },
  {
   "cell_type": "code",
   "execution_count": 3,
   "id": "9a378c7b-e6b6-433d-b66e-060160692f98",
   "metadata": {},
   "outputs": [],
   "source": [
    "cv2.imshow('Original_image',image)\n",
    "cv2.waitKey(0)\n",
    "cv2.destroyAllWindows()\n"
   ]
  },
  {
   "cell_type": "code",
   "execution_count": 4,
   "id": "5d103a71-c7ab-4c75-9540-e1e3b93bce67",
   "metadata": {},
   "outputs": [
    {
     "name": "stdout",
     "output_type": "stream",
     "text": [
      "(110.0, 165.5)\n"
     ]
    }
   ],
   "source": [
    "center = (height/2,width/2)\n",
    "print(center)\n"
   ]
  },
  {
   "cell_type": "code",
   "execution_count": 7,
   "id": "cd886d40-6371-420c-90f3-f33017a636bb",
   "metadata": {},
   "outputs": [
    {
     "name": "stdout",
     "output_type": "stream",
     "text": [
      "[[ -0.8660254    0.5        122.51279442]\n",
      " [ -0.5         -0.8660254  363.82720433]]\n"
     ]
    }
   ],
   "source": [
    "rotate_matrix =cv2.getRotationMatrix2D(center=center, angle=150, scale=1.0)\n",
    "\n",
    "print(rotate_matrix)"
   ]
  },
  {
   "cell_type": "code",
   "execution_count": 8,
   "id": "9d934da5-a52e-4697-a343-16d434fd1c9a",
   "metadata": {},
   "outputs": [],
   "source": [
    "rotated_image = cv2.warpAffine(src=image, M=rotate_matrix, dsize=(width, height))\n",
    "\n",
    "cv2.imshow('Original image', image)\n",
    "cv2.waitKey(0)\n",
    "cv2.imshow('Rotated image', rotated_image)\n",
    "cv2.waitKey(0)                               \n",
    "cv2.destroyAllWindows()"
   ]
  },
  {
   "cell_type": "markdown",
   "id": "ba58181f-8663-405b-a65a-5cab5fa1bf46",
   "metadata": {},
   "source": [
    "TRANSLATION"
   ]
  },
  {
   "cell_type": "code",
   "execution_count": 9,
   "id": "a3b5e085-266d-4968-8d79-3f9e08354ba9",
   "metadata": {},
   "outputs": [
    {
     "name": "stdout",
     "output_type": "stream",
     "text": [
      "100.0\n",
      "50.0\n"
     ]
    }
   ],
   "source": [
    "tx, ty = 100.0,50.0\n",
    "print(tx)\n",
    "print(ty)"
   ]
  },
  {
   "cell_type": "code",
   "execution_count": 10,
   "id": "17163220-b5f9-424d-864c-344954e24610",
   "metadata": {},
   "outputs": [],
   "source": [
    "translation_matrix = np.array([[1, 0, tx],[0, 1, ty]])"
   ]
  },
  {
   "cell_type": "code",
   "execution_count": 11,
   "id": "137456fe-095b-4138-8aac-12822251306b",
   "metadata": {},
   "outputs": [],
   "source": [
    "translated_image = cv2.warpAffine(src=image, M=translation_matrix, dsize=(width, height))"
   ]
  },
  {
   "cell_type": "code",
   "execution_count": 12,
   "id": "9333d839-5d0e-4190-8d18-c3bdbe93b980",
   "metadata": {},
   "outputs": [],
   "source": [
    "cv2.imshow(' trans_image', translated_image)\n",
    "cv2.waitKey(0)\n",
    "cv2.destroyAllWindows()"
   ]
  },
  {
   "cell_type": "code",
   "execution_count": null,
   "id": "1133a525-0742-43d2-a2cf-b7ffc718689c",
   "metadata": {},
   "outputs": [],
   "source": []
  }
 ],
 "metadata": {
  "kernelspec": {
   "display_name": "Python 3 (ipykernel)",
   "language": "python",
   "name": "python3"
  },
  "language_info": {
   "codemirror_mode": {
    "name": "ipython",
    "version": 3
   },
   "file_extension": ".py",
   "mimetype": "text/x-python",
   "name": "python",
   "nbconvert_exporter": "python",
   "pygments_lexer": "ipython3",
   "version": "3.11.8"
  }
 },
 "nbformat": 4,
 "nbformat_minor": 5
}
