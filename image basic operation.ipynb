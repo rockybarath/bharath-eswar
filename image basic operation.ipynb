{
 "cells": [
  {
   "cell_type": "markdown",
   "id": "c3f3200d",
   "metadata": {},
   "source": [
    "# importing libraries"
   ]
  },
  {
   "cell_type": "code",
   "execution_count": 1,
   "id": "5b8d4cd1",
   "metadata": {},
   "outputs": [],
   "source": [
    "import numpy as np\n",
    "import cv2"
   ]
  },
  {
   "cell_type": "markdown",
   "id": "bb007cad",
   "metadata": {},
   "source": [
    "# reading an image"
   ]
  },
  {
   "cell_type": "code",
   "execution_count": 2,
   "id": "826ae3a9",
   "metadata": {},
   "outputs": [],
   "source": [
    "img = cv2.imread(\"C:\\\\Users\\\\ADMIN\\\\faizal final sem\\\\hi.jpg\")"
   ]
  },
  {
   "cell_type": "code",
   "execution_count": 3,
   "id": "4d388227",
   "metadata": {},
   "outputs": [],
   "source": [
    "shp = img.shape"
   ]
  },
  {
   "cell_type": "code",
   "execution_count": 4,
   "id": "ec500b30",
   "metadata": {},
   "outputs": [
    {
     "data": {
      "text/plain": [
       "(894, 894, 3)"
      ]
     },
     "execution_count": 4,
     "metadata": {},
     "output_type": "execute_result"
    }
   ],
   "source": [
    "shp"
   ]
  },
  {
   "cell_type": "code",
   "execution_count": 5,
   "id": "f4fd9d94",
   "metadata": {},
   "outputs": [],
   "source": [
    "size = img.size"
   ]
  },
  {
   "cell_type": "code",
   "execution_count": 6,
   "id": "d5970979",
   "metadata": {},
   "outputs": [
    {
     "data": {
      "text/plain": [
       "2397708"
      ]
     },
     "execution_count": 6,
     "metadata": {},
     "output_type": "execute_result"
    }
   ],
   "source": [
    "size"
   ]
  },
  {
   "cell_type": "markdown",
   "id": "3243ba8b",
   "metadata": {},
   "source": [
    "# img reshape"
   ]
  },
  {
   "cell_type": "code",
   "execution_count": 7,
   "id": "9a529ff9",
   "metadata": {},
   "outputs": [],
   "source": [
    "reshape_image = cv2.resize(img,(500,500))"
   ]
  },
  {
   "cell_type": "code",
   "execution_count": 8,
   "id": "1b6c3d04",
   "metadata": {},
   "outputs": [
    {
     "data": {
      "text/plain": [
       "750000"
      ]
     },
     "execution_count": 8,
     "metadata": {},
     "output_type": "execute_result"
    }
   ],
   "source": [
    "reshape_image.size"
   ]
  },
  {
   "cell_type": "code",
   "execution_count": 9,
   "id": "5ee6b089",
   "metadata": {},
   "outputs": [
    {
     "data": {
      "text/plain": [
       "(500, 500, 3)"
      ]
     },
     "execution_count": 9,
     "metadata": {},
     "output_type": "execute_result"
    }
   ],
   "source": [
    "reshape_image.shape"
   ]
  },
  {
   "cell_type": "code",
   "execution_count": 10,
   "id": "708a8fd0",
   "metadata": {},
   "outputs": [],
   "source": [
    "cv2.imshow(\"Image\", img)\n",
    "cv2.imshow(\"Resize Image\",reshape_image)\n",
    "cv2.waitKey(0)\n",
    "cv2.destroyAllWindows()"
   ]
  },
  {
   "cell_type": "markdown",
   "id": "6c85c99c",
   "metadata": {},
   "source": [
    "# value of pixel"
   ]
  },
  {
   "cell_type": "code",
   "execution_count": 11,
   "id": "f1fb89d6",
   "metadata": {},
   "outputs": [],
   "source": [
    "px = img[201,200]"
   ]
  },
  {
   "cell_type": "code",
   "execution_count": 12,
   "id": "a1eede21",
   "metadata": {},
   "outputs": [
    {
     "name": "stdout",
     "output_type": "stream",
     "text": [
      "[203 159  88]\n"
     ]
    }
   ],
   "source": [
    "print(px)"
   ]
  },
  {
   "cell_type": "code",
   "execution_count": 13,
   "id": "52c543a5",
   "metadata": {},
   "outputs": [
    {
     "data": {
      "text/plain": [
       "array([[[ 40,  33,  16],\n",
       "        [ 39,  32,  15],\n",
       "        [ 37,  30,  13],\n",
       "        ...,\n",
       "        [105,  63,  40],\n",
       "        [105,  63,  40],\n",
       "        [105,  63,  40]],\n",
       "\n",
       "       [[ 40,  33,  16],\n",
       "        [ 39,  32,  15],\n",
       "        [ 37,  30,  13],\n",
       "        ...,\n",
       "        [105,  63,  40],\n",
       "        [105,  63,  40],\n",
       "        [105,  63,  40]],\n",
       "\n",
       "       [[ 40,  33,  16],\n",
       "        [ 39,  32,  15],\n",
       "        [ 37,  30,  13],\n",
       "        ...,\n",
       "        [105,  63,  40],\n",
       "        [105,  63,  40],\n",
       "        [105,  63,  40]],\n",
       "\n",
       "       ...,\n",
       "\n",
       "       [[ 59,  45,  27],\n",
       "        [ 59,  45,  27],\n",
       "        [ 58,  44,  26],\n",
       "        ...,\n",
       "        [ 30,  22,   5],\n",
       "        [ 21,  15,   2],\n",
       "        [ 18,  14,   3]],\n",
       "\n",
       "       [[ 58,  44,  26],\n",
       "        [ 58,  44,  26],\n",
       "        [ 57,  43,  25],\n",
       "        ...,\n",
       "        [ 31,  24,   7],\n",
       "        [ 17,  13,   2],\n",
       "        [ 15,  13,   3]],\n",
       "\n",
       "       [[ 53,  39,  21],\n",
       "        [ 53,  39,  21],\n",
       "        [ 54,  40,  22],\n",
       "        ...,\n",
       "        [ 41,  37,  19],\n",
       "        [ 27,  23,  12],\n",
       "        [ 22,  20,  10]]], dtype=uint8)"
      ]
     },
     "execution_count": 13,
     "metadata": {},
     "output_type": "execute_result"
    }
   ],
   "source": [
    "img"
   ]
  },
  {
   "cell_type": "markdown",
   "id": "56cc8467",
   "metadata": {},
   "source": [
    "# ROI"
   ]
  },
  {
   "cell_type": "code",
   "execution_count": 14,
   "id": "14771096",
   "metadata": {},
   "outputs": [],
   "source": [
    "#Select ROI\n",
    "r = cv2.selectROI(\"select the area\",img)\n",
    "\n",
    "#crop img\n",
    "cropped_image = img[int(r[1]):int(r[1]+r[3]),\n",
    "                       int(r[0]):int(r[0]+r[2])]\n",
    "cv2.imshow(\"Cropped Image\",cropped_image)\n",
    "cv2.waitKey(0)\n",
    "cv2.destroyAllWindows()"
   ]
  },
  {
   "cell_type": "code",
   "execution_count": 15,
   "id": "f1c782a5",
   "metadata": {},
   "outputs": [
    {
     "data": {
      "text/plain": [
       "array([[[212, 164,  92],\n",
       "        [212, 165,  91],\n",
       "        [213, 166,  92],\n",
       "        ...,\n",
       "        [123,  84,  39],\n",
       "        [127,  87,  45],\n",
       "        [130,  90,  55]],\n",
       "\n",
       "       [[213, 165,  93],\n",
       "        [213, 166,  92],\n",
       "        [214, 167,  93],\n",
       "        ...,\n",
       "        [126,  87,  42],\n",
       "        [124,  84,  42],\n",
       "        [129,  89,  54]],\n",
       "\n",
       "       [[214, 166,  94],\n",
       "        [214, 167,  93],\n",
       "        [214, 168,  91],\n",
       "        ...,\n",
       "        [129,  90,  45],\n",
       "        [119,  81,  39],\n",
       "        [125,  86,  48]],\n",
       "\n",
       "       ...,\n",
       "\n",
       "       [[ 91,  70,  49],\n",
       "        [ 93,  72,  50],\n",
       "        [102,  81,  59],\n",
       "        ...,\n",
       "        [ 73,  54,  39],\n",
       "        [ 79,  60,  45],\n",
       "        [ 84,  67,  54]],\n",
       "\n",
       "       [[ 94,  73,  51],\n",
       "        [ 96,  75,  53],\n",
       "        [106,  85,  63],\n",
       "        ...,\n",
       "        [ 81,  63,  46],\n",
       "        [ 81,  63,  46],\n",
       "        [ 81,  62,  47]],\n",
       "\n",
       "       [[ 97,  76,  54],\n",
       "        [102,  79,  57],\n",
       "        [115,  93,  68],\n",
       "        ...,\n",
       "        [ 83,  63,  46],\n",
       "        [ 75,  55,  37],\n",
       "        [ 70,  50,  33]]], dtype=uint8)"
      ]
     },
     "execution_count": 15,
     "metadata": {},
     "output_type": "execute_result"
    }
   ],
   "source": [
    "cropped_image"
   ]
  },
  {
   "cell_type": "markdown",
   "id": "d957220b",
   "metadata": {},
   "source": [
    "# Save Cropped Image"
   ]
  },
  {
   "cell_type": "code",
   "execution_count": 16,
   "id": "2ecab9a5",
   "metadata": {},
   "outputs": [
    {
     "data": {
      "text/plain": [
       "True"
      ]
     },
     "execution_count": 16,
     "metadata": {},
     "output_type": "execute_result"
    }
   ],
   "source": [
    "cv2.imwrite('saveimage33.png',cropped_image)"
   ]
  },
  {
   "cell_type": "code",
   "execution_count": 17,
   "id": "ce40bb64",
   "metadata": {},
   "outputs": [],
   "source": [
    "img = cv2.imread(\"C:\\\\Users\\\\ADMIN\\\\Guru balan\\\\ai.jpeg\")"
   ]
  },
  {
   "cell_type": "code",
   "execution_count": null,
   "id": "d705837b-b71d-4342-aa09-e2db468e1fe7",
   "metadata": {},
   "outputs": [],
   "source": [
    "b,g,r = cv2.split(img)\n",
    "\n",
    "# to display the split image\n",
    "cv2.imshow('image',img)\n",
    "cv2.imshow(\"blue\",b)\n",
    "cv2.imshow(\"green\",g)\n",
    "cv2.imshow(\"red\",r)\n",
    "cv2.waitKey(0)\n",
    "cv2.destroyAllWindows"
   ]
  },
  {
   "cell_type": "code",
   "execution_count": null,
   "id": "00f70117-5375-428d-a3f3-0bb04a39f7c9",
   "metadata": {},
   "outputs": [],
   "source": []
  }
 ],
 "metadata": {
  "kernelspec": {
   "display_name": "Python 3 (ipykernel)",
   "language": "python",
   "name": "python3"
  },
  "language_info": {
   "codemirror_mode": {
    "name": "ipython",
    "version": 3
   },
   "file_extension": ".py",
   "mimetype": "text/x-python",
   "name": "python",
   "nbconvert_exporter": "python",
   "pygments_lexer": "ipython3",
   "version": "3.11.8"
  }
 },
 "nbformat": 4,
 "nbformat_minor": 5
}
