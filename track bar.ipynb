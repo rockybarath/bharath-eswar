{
 "cells": [
  {
   "cell_type": "code",
   "execution_count": 1,
   "id": "3aa13e24-e8de-4540-9409-f8830f5fc810",
   "metadata": {},
   "outputs": [],
   "source": [
    "import cv2\n",
    "import numpy as np"
   ]
  },
  {
   "cell_type": "code",
   "execution_count": 2,
   "id": "897629a8-7a28-4473-92d3-676dfb24f551",
   "metadata": {},
   "outputs": [],
   "source": [
    "def nothing(x):\n",
    "    print(x)"
   ]
  },
  {
   "cell_type": "code",
   "execution_count": 3,
   "id": "cd559a34-4c36-48d7-b57e-4e7dcdebb2ad",
   "metadata": {},
   "outputs": [],
   "source": [
    "img = np.zeros((250,500,3),np.uint8)\n",
    "cv2.namedWindow('image')\n",
    "cv2.createTrackbar('B','image',0,255,nothing)\n",
    "cv2.createTrackbar('G','image',0,255,nothing)\n",
    "cv2.createTrackbar('R','image',0,255,nothing)\n",
    "switch = '0.OFF\\n 1:ON'\n",
    "cv2.createTrackbar(switch,'image',0,1,nothing)\n",
    "while True:\n",
    "    cv2.imshow('image',img)\n",
    "    if cv2.waitKey(1) & 0xFF == 27:\n",
    "        break\n",
    "    b = cv2.getTrackbarPos('B','image')\n",
    "    g = cv2.getTrackbarPos('G','image')\n",
    "    r = cv2.getTrackbarPos('R','image')\n",
    "    s = cv2.getTrackbarPos(switch,'image')\n",
    "    if s == 0:\n",
    "        img[:] = 0\n",
    "    else:\n",
    "        img[:] = [b,g,r]\n",
    "\n",
    "\n",
    "cv2.destroyAllWindows()"
   ]
  },
  {
   "cell_type": "code",
   "execution_count": 4,
   "id": "b9a60df1-3916-4b1b-b83d-c17ecc647752",
   "metadata": {},
   "outputs": [],
   "source": [
    "def update_image(x):\n",
    "    r = cv2.getTrackbarPos('R','Image')\n",
    "    g = cv2.getTrackbarPos('G','Image')\n",
    "    b = cv2.getTrackbarPos('B','Image')\n",
    "\n",
    "\n",
    "    blank_image = np.zeros_like(image)\n",
    "\n",
    "    blank_image[:] = (b,g,r)\n",
    "\n",
    "    cv2.addWeighted(image, 1.0, blank_image, 0.5, 0, modified_image)\n",
    "\n",
    "    cv2.imshow('Image',modified_image)\n",
    "\n",
    "image = cv2.imread(\"C:\\\\Users\\\\ADMIN\\\\faizal final sem\\\\GG.jpeg\")\n",
    "\n",
    "cv2.namedWindow('Image')\n",
    "\n",
    "cv2.createTrackbar('R', 'Image', 0, 255, update_image)\n",
    "cv2.createTrackbar('G', 'Image', 0, 255, update_image)\n",
    "cv2.createTrackbar('B', 'Image', 0, 255, update_image)\n",
    "\n",
    "modified_image = image.copy()\n",
    "\n",
    "update_image(0)\n",
    "\n",
    "while True:\n",
    "    if cv2.waitKey(1) & 0xFF == 27:\n",
    "        break\n",
    "\n",
    "cv2.destroyAllWindows()"
   ]
  },
  {
   "cell_type": "code",
   "execution_count": null,
   "id": "53b25fe5-2a18-484c-87e6-461837031bf6",
   "metadata": {},
   "outputs": [],
   "source": []
  }
 ],
 "metadata": {
  "kernelspec": {
   "display_name": "Python 3 (ipykernel)",
   "language": "python",
   "name": "python3"
  },
  "language_info": {
   "codemirror_mode": {
    "name": "ipython",
    "version": 3
   },
   "file_extension": ".py",
   "mimetype": "text/x-python",
   "name": "python",
   "nbconvert_exporter": "python",
   "pygments_lexer": "ipython3",
   "version": "3.11.8"
  }
 },
 "nbformat": 4,
 "nbformat_minor": 5
}
