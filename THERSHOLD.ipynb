{
 "cells": [
  {
   "cell_type": "code",
   "execution_count": 1,
   "id": "103e8208-6537-431d-8aaf-9eb33985ff7d",
   "metadata": {},
   "outputs": [],
   "source": [
    "import cv2\n",
    "import numpy as np"
   ]
  },
  {
   "cell_type": "code",
   "execution_count": 2,
   "id": "6ab7cfb6-ca3d-4f2b-8161-901a0eaa1395",
   "metadata": {},
   "outputs": [],
   "source": [
    "img = cv2.imread(\"C:\\\\Users\\\\ADMIN\\\\faizal final sem\\\\img.jpeg\")"
   ]
  },
  {
   "cell_type": "code",
   "execution_count": 3,
   "id": "9f79bfec-8770-4368-b223-2c0237731466",
   "metadata": {},
   "outputs": [
    {
     "name": "stdout",
     "output_type": "stream",
     "text": [
      "(220, 392, 3)\n"
     ]
    }
   ],
   "source": [
    "sp=img.shape\n",
    "print(sp)"
   ]
  },
  {
   "cell_type": "markdown",
   "id": "d64fc9e1-0f32-4fe2-b0b8-4d395f4175df",
   "metadata": {},
   "source": [
    "LOAD THE IMAGE IN GRAYSCALE"
   ]
  },
  {
   "cell_type": "code",
   "execution_count": 4,
   "id": "d1bdbd90-2c3d-4f9d-ba47-e6d8f3c344f1",
   "metadata": {},
   "outputs": [],
   "source": [
    "GREY=cv2.cvtColor(img,cv2.COLOR_BGR2GRAY)"
   ]
  },
  {
   "cell_type": "markdown",
   "id": "af73977e-0e0f-4556-b5f9-58e61970c949",
   "metadata": {},
   "source": [
    "DISPLAY IMAGES"
   ]
  },
  {
   "cell_type": "code",
   "execution_count": 5,
   "id": "65e784af-d7a2-4272-af89-86a98a638b93",
   "metadata": {},
   "outputs": [],
   "source": [
    "cv2.imshow(\"original image\",img)\n",
    "cv2.imshow(\"grey\",GREY)\n",
    "cv2.waitKey(0)\n",
    "cv2.destroyAllWindows()"
   ]
  },
  {
   "cell_type": "markdown",
   "id": "f87a2a2e-ad49-41cc-9e55-699e285e092c",
   "metadata": {},
   "source": [
    "BINARY THRESHOLDING"
   ]
  },
  {
   "cell_type": "code",
   "execution_count": 6,
   "id": "be00a607-07a5-4428-b9b1-6b7afd4fc725",
   "metadata": {},
   "outputs": [],
   "source": [
    "ret,thresh1 = cv2.threshold(GREY,200,255,cv2.THRESH_BINARY)"
   ]
  },
  {
   "cell_type": "markdown",
   "id": "ffcdc3d8-07d4-43e5-b38e-0862658c418a",
   "metadata": {},
   "source": [
    "BINARY INVERSE THRESHOLDING"
   ]
  },
  {
   "cell_type": "code",
   "execution_count": 7,
   "id": "87205e1f-6827-4693-84d4-9d4c9668a66a",
   "metadata": {},
   "outputs": [],
   "source": [
    "ret,thresh2 = cv2.threshold(GREY,127,255,cv2.THRESH_BINARY_INV)"
   ]
  },
  {
   "cell_type": "markdown",
   "id": "60f9a52b-2b54-42c1-b6bf-a586966d0b1b",
   "metadata": {},
   "source": [
    "TRUNCATION THRESHOLDING"
   ]
  },
  {
   "cell_type": "code",
   "execution_count": 8,
   "id": "165ee522-68b6-402e-8518-36e26bf56b6e",
   "metadata": {},
   "outputs": [],
   "source": [
    "ret,thresh3 = cv2.threshold(GREY,127,255,cv2.THRESH_TRUNC)"
   ]
  },
  {
   "cell_type": "markdown",
   "id": "790611bc-14c9-46ad-a094-ce1ae72041e5",
   "metadata": {},
   "source": [
    "TO ZERO THRESHOLDING"
   ]
  },
  {
   "cell_type": "code",
   "execution_count": 9,
   "id": "1832edd0-ac50-434a-a304-9355af2fbef3",
   "metadata": {},
   "outputs": [],
   "source": [
    "ret,thresh4 = cv2.threshold(GREY,127,255,cv2.THRESH_TOZERO)"
   ]
  },
  {
   "cell_type": "markdown",
   "id": "d374394a-d264-43b7-8edc-e5198abd8269",
   "metadata": {},
   "source": [
    "TO ZERO INVERSE THRESHOLDING"
   ]
  },
  {
   "cell_type": "code",
   "execution_count": 10,
   "id": "db916294-2254-432d-b1f1-bb074fb8dd31",
   "metadata": {},
   "outputs": [],
   "source": [
    "ret,thresh5 = cv2.threshold(GREY,127,255,cv2.THRESH_TOZERO_INV)"
   ]
  },
  {
   "cell_type": "markdown",
   "id": "0cdbe147-eaa9-4019-aca9-18a5e51f1abc",
   "metadata": {},
   "source": [
    "DISPLAY RESULTS"
   ]
  },
  {
   "cell_type": "code",
   "execution_count": 11,
   "id": "51a35002-9e45-4961-a072-c8337b2370c8",
   "metadata": {},
   "outputs": [],
   "source": [
    "cv2.imshow(\"grey\",GREY)\n",
    "cv2.imshow(\"Binary\",thresh1)\n",
    "cv2.imshow(\"Binary_Inv\",thresh2)\n",
    "cv2.imshow(\"Trunc\",thresh3)\n",
    "cv2.imshow(\"To_Zero\",thresh4)\n",
    "cv2.imshow(\"To_Zero_Inv\",thresh5)\n",
    "cv2.waitKey(0)\n",
    "cv2.destroyAllWindows()"
   ]
  },
  {
   "cell_type": "markdown",
   "id": "9e2ea44d-a248-4884-85fa-d8832958d230",
   "metadata": {},
   "source": [
    "ADAPTIVE THRESHOLDING"
   ]
  },
  {
   "cell_type": "code",
   "execution_count": 12,
   "id": "54f353b9-6355-4ee3-afdc-9df829b0fe03",
   "metadata": {},
   "outputs": [],
   "source": [
    "img = cv2.medianBlur(GREY,5)"
   ]
  },
  {
   "cell_type": "markdown",
   "id": "4783ee03-279b-4799-926b-0f3344e7e2ee",
   "metadata": {},
   "source": [
    "SYNTAX"
   ]
  },
  {
   "cell_type": "code",
   "execution_count": 13,
   "id": "b4ca0fc2-0836-4f8a-8097-75582dc58bae",
   "metadata": {},
   "outputs": [],
   "source": [
    "th = cv2.adaptiveThreshold(img,255,cv2.ADAPTIVE_THRESH_MEAN_C,cv2.THRESH_BINARY,11,2)"
   ]
  },
  {
   "cell_type": "code",
   "execution_count": 14,
   "id": "856ee0b8-a283-4f68-8ded-9a35c1070260",
   "metadata": {},
   "outputs": [],
   "source": [
    "cv2.imshow(\"Blur img\",img)\n",
    "cv2.imshow(\"Meanc\",th)\n",
    "cv2.waitKey(0)\n",
    "cv2.destroyAllWindows()"
   ]
  },
  {
   "cell_type": "code",
   "execution_count": 15,
   "id": "3d922914-9365-4a56-91f8-5737ed9f2d60",
   "metadata": {},
   "outputs": [],
   "source": [
    "th1 = cv2.adaptiveThreshold(img,255,cv2.ADAPTIVE_THRESH_GAUSSIAN_C,cv2.THRESH_BINARY,11,2)"
   ]
  },
  {
   "cell_type": "code",
   "execution_count": 16,
   "id": "a8f4255a-b1dc-4808-942e-bdb4276b1eab",
   "metadata": {},
   "outputs": [],
   "source": [
    "cv2.imshow(\"MeanC\",img)\n",
    "cv2.imshow(\"GAUSSIAN_C\",th1)\n",
    "cv2.waitKey(0)\n",
    "cv2.destroyAllWindows()"
   ]
  },
  {
   "cell_type": "code",
   "execution_count": null,
   "id": "6d7c08da-8fb3-4a06-b22b-475aaea32225",
   "metadata": {},
   "outputs": [],
   "source": []
  }
 ],
 "metadata": {
  "kernelspec": {
   "display_name": "Python 3 (ipykernel)",
   "language": "python",
   "name": "python3"
  },
  "language_info": {
   "codemirror_mode": {
    "name": "ipython",
    "version": 3
   },
   "file_extension": ".py",
   "mimetype": "text/x-python",
   "name": "python",
   "nbconvert_exporter": "python",
   "pygments_lexer": "ipython3",
   "version": "3.11.8"
  }
 },
 "nbformat": 4,
 "nbformat_minor": 5
}
