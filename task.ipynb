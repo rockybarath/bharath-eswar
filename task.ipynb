{
 "cells": [
  {
   "cell_type": "code",
   "execution_count": 1,
   "id": "a1f6a902-aa09-47ba-adb6-0d9cafe83906",
   "metadata": {},
   "outputs": [],
   "source": [
    "import cv2\n",
    "import numpy as np"
   ]
  },
  {
   "cell_type": "code",
   "execution_count": 2,
   "id": "4eaca665-dbb9-4d51-b830-1196c14bde91",
   "metadata": {},
   "outputs": [],
   "source": [
    "img1 = cv2.imread(\"C:\\\\Users\\\\ADMIN\\\\faizal final sem\\\\th.jpeg\")\n",
    "img2 = cv2.imread(\"C:\\\\Users\\\\ADMIN\\\\faizal final sem\\\\th (2).jpeg\")\n",
    "cv2.imshow(\"IMG1\",img1)\n",
    "cv2.imshow(\"IMG2\",img2)\n",
    "cv2.waitKey(0)\n",
    "cv2.destroyAllWindows()"
   ]
  },
  {
   "cell_type": "code",
   "execution_count": 3,
   "id": "2e619d15-853f-4d0d-9fe5-82038ef3499a",
   "metadata": {},
   "outputs": [],
   "source": [
    "img_1 = cv2.resize(img1,(500,500))\n",
    "img_2 = cv2.resize(img2,(500,500))"
   ]
  },
  {
   "cell_type": "code",
   "execution_count": 4,
   "id": "69afa9cc-55fd-41fb-abd3-c76e78cec3a4",
   "metadata": {},
   "outputs": [],
   "source": [
    "imadd = cv2.addWeighted(img_1,1,img_2,0.3,0)\n",
    "cv2.imshow(\"IMG_1\",img_1)\n",
    "cv2.imshow(\"IMG_2\",img_2)\n",
    "cv2.imshow(\"addimg\",imadd)\n",
    "cv2.waitKey(0)\n",
    "cv2.destroyAllWindows()"
   ]
  },
  {
   "cell_type": "code",
   "execution_count": 5,
   "id": "b96fb5a2-395a-49ad-8cdf-0e6c0dbff624",
   "metadata": {},
   "outputs": [],
   "source": [
    "bitwise_and = cv2.bitwise_and (img_1,img_2,mask=None)"
   ]
  },
  {
   "cell_type": "code",
   "execution_count": 6,
   "id": "27f1b6d5-2ab4-4fd8-a9d0-8d90a7f78b16",
   "metadata": {},
   "outputs": [],
   "source": [
    "bitwise_or = cv2.bitwise_or (img_1,img_2,mask=None)"
   ]
  },
  {
   "cell_type": "code",
   "execution_count": 7,
   "id": "1e197f0b-a435-463e-b727-0793dcf1964d",
   "metadata": {},
   "outputs": [],
   "source": [
    "bitwise_xor = cv2.bitwise_xor (img_1,img_2,mask=None)"
   ]
  },
  {
   "cell_type": "code",
   "execution_count": 8,
   "id": "b1b45382-3c2b-4fb1-8409-29002542c028",
   "metadata": {},
   "outputs": [],
   "source": [
    "cv2.imshow(\"bitwise_or\",bitwise_or)\n",
    "cv2.imshow(\"bitwise_xor \",bitwise_xor)\n",
    "cv2.imshow(\"bitwise_not\",bitwise_and)\n",
    "cv2.waitKey(0)\n",
    "cv2.destroyAllWindows()"
   ]
  },
  {
   "cell_type": "code",
   "execution_count": 9,
   "id": "96139e3a-7179-4108-819d-03a315f12f01",
   "metadata": {},
   "outputs": [
    {
     "name": "stdout",
     "output_type": "stream",
     "text": [
      "(512, 512, 3)\n",
      "512\n",
      "512\n"
     ]
    }
   ],
   "source": [
    "img = cv2.resize(bitwise_xor,(512,512))\n",
    "shp=img.shape\n",
    "print(shp)\n",
    "height,width=img.shape[:2]\n",
    "print(height)\n",
    "print(width)"
   ]
  },
  {
   "cell_type": "code",
   "execution_count": 10,
   "id": "2ac0b3ae-bdf2-460a-895a-ad83ccdfbc70",
   "metadata": {},
   "outputs": [],
   "source": [
    "cv2.imshow(\"IMG\",img)\n",
    "cv2.waitKey(0)\n",
    "cv2.destroyAllWindows()"
   ]
  },
  {
   "cell_type": "code",
   "execution_count": 11,
   "id": "3afca0a9-41d4-4078-ab2c-d6a7329efbfd",
   "metadata": {},
   "outputs": [
    {
     "name": "stdout",
     "output_type": "stream",
     "text": [
      "(256.0, 256.0)\n"
     ]
    }
   ],
   "source": [
    "center = (width/2,height/2)\n",
    "print(center)"
   ]
  },
  {
   "cell_type": "code",
   "execution_count": 12,
   "id": "1ad745b3-c28d-49ea-a3d8-968c71e0ea21",
   "metadata": {},
   "outputs": [
    {
     "name": "stdout",
     "output_type": "stream",
     "text": [
      "[[-1.0000000e+00  1.2246468e-16  5.1200000e+02]\n",
      " [-1.2246468e-16 -1.0000000e+00  5.1200000e+02]]\n"
     ]
    }
   ],
   "source": [
    "rotate_matrix = cv2.getRotationMatrix2D(center= center, angle = 180 , scale = 1.0)\n",
    "print(rotate_matrix)"
   ]
  },
  {
   "cell_type": "code",
   "execution_count": 13,
   "id": "4e49e01b-ae9e-4f8f-a957-2d7d4b9e4386",
   "metadata": {},
   "outputs": [],
   "source": [
    "rotate_image = cv2.warpAffine(src=img, M=rotate_matrix, dsize=(width,height))\n",
    "cv2.imshow(\"ORG_Image\",img)\n",
    "cv2.waitKey(0)\n",
    "cv2.imshow(\"rotate_image\",rotate_image)\n",
    "cv2.waitKey(0)\n",
    "cv2.destroyAllWindows()"
   ]
  },
  {
   "cell_type": "code",
   "execution_count": null,
   "id": "ef365156-2f32-4090-8bba-9bce29891509",
   "metadata": {},
   "outputs": [],
   "source": []
  }
 ],
 "metadata": {
  "kernelspec": {
   "display_name": "Python 3 (ipykernel)",
   "language": "python",
   "name": "python3"
  },
  "language_info": {
   "codemirror_mode": {
    "name": "ipython",
    "version": 3
   },
   "file_extension": ".py",
   "mimetype": "text/x-python",
   "name": "python",
   "nbconvert_exporter": "python",
   "pygments_lexer": "ipython3",
   "version": "3.11.8"
  }
 },
 "nbformat": 4,
 "nbformat_minor": 5
}
