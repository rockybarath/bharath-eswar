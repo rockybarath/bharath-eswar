{
 "cells": [
  {
   "cell_type": "code",
   "execution_count": 1,
   "id": "5bf2b926-1456-42c7-824e-e89788a36710",
   "metadata": {},
   "outputs": [],
   "source": [
    "import cv2\n",
    "import numpy as np"
   ]
  },
  {
   "cell_type": "code",
   "execution_count": 2,
   "id": "a9daa683-4de9-43f3-83f4-2e9c78127695",
   "metadata": {},
   "outputs": [],
   "source": [
    "img1 = cv2.imread(\"C:\\\\Users\\\\ADMIN\\\\faizal final sem\\\\hhhh.jpg\")\n",
    "img2 = cv2.imread(\"C:\\\\Users\\\\ADMIN\\\\faizal final sem\\\\GG.jpeg\")\n",
    "\n",
    "cv2.imshow('Image1', img1)\n",
    "cv2.imshow('Image2', img2)\n",
    "cv2.waitKey(0)\n",
    "cv2.destroyAllWindows()"
   ]
  },
  {
   "cell_type": "code",
   "execution_count": 3,
   "id": "4aece66b-1785-4ea5-8cf9-890f5cad35db",
   "metadata": {},
   "outputs": [
    {
     "data": {
      "text/plain": [
       "(894, 894, 3)"
      ]
     },
     "execution_count": 3,
     "metadata": {},
     "output_type": "execute_result"
    }
   ],
   "source": [
    "img1.shape"
   ]
  },
  {
   "cell_type": "code",
   "execution_count": 4,
   "id": "1914aa4f-61ca-461c-a168-fba0c5b288fb",
   "metadata": {},
   "outputs": [
    {
     "data": {
      "text/plain": [
       "(185, 272, 3)"
      ]
     },
     "execution_count": 4,
     "metadata": {},
     "output_type": "execute_result"
    }
   ],
   "source": [
    "img2.shape"
   ]
  },
  {
   "cell_type": "code",
   "execution_count": 5,
   "id": "cd63b632-793e-45af-8a8c-e2e0ae865798",
   "metadata": {},
   "outputs": [],
   "source": [
    "img1 = cv2.resize(img1, (500,700))\n",
    "img2 = cv2.resize(img2, (500,700))"
   ]
  },
  {
   "cell_type": "code",
   "execution_count": 6,
   "id": "373b20be-ec32-4c70-a12a-654d17789836",
   "metadata": {},
   "outputs": [
    {
     "data": {
      "text/plain": [
       "(700, 500, 3)"
      ]
     },
     "execution_count": 6,
     "metadata": {},
     "output_type": "execute_result"
    }
   ],
   "source": [
    "img1.shape"
   ]
  },
  {
   "cell_type": "code",
   "execution_count": 7,
   "id": "7a03de26-5f16-4e26-81d7-3a892a4e9ab6",
   "metadata": {},
   "outputs": [
    {
     "data": {
      "text/plain": [
       "(700, 500, 3)"
      ]
     },
     "execution_count": 7,
     "metadata": {},
     "output_type": "execute_result"
    }
   ],
   "source": [
    "img2.shape"
   ]
  },
  {
   "cell_type": "code",
   "execution_count": 8,
   "id": "30eab348-310e-43a1-9bd8-e0a334c5c5f9",
   "metadata": {},
   "outputs": [],
   "source": [
    "added_image = cv2.add(img1,img2)\n",
    "cv2.imshow('added_image', added_image)\n",
    "cv2.waitKey(0)\n",
    "cv2.destroyAllWindows()"
   ]
  },
  {
   "cell_type": "markdown",
   "id": "bb0b1998-78cb-4345-ba0e-40dc4f34d389",
   "metadata": {},
   "source": [
    "Image Blending"
   ]
  },
  {
   "cell_type": "code",
   "execution_count": 9,
   "id": "75c7d74b-0c72-49b2-8e5e-0ed084b6ed5b",
   "metadata": {},
   "outputs": [],
   "source": [
    "imAdd = cv2.addWeighted(img1,0.3,img2,0.7,0)\n",
    "cv2.imshow('imAdd', imAdd)\n",
    "cv2.waitKey(0)\n",
    "cv2.destroyAllWindows()"
   ]
  },
  {
   "cell_type": "code",
   "execution_count": 10,
   "id": "c9e9c4c4-d2fa-4395-b601-4b90c77df49e",
   "metadata": {},
   "outputs": [],
   "source": [
    "imAdd = cv2.addWeighted(img1,0.3,img2,0.7,0)\n",
    "cv2.imshow('image1', img1)\n",
    "cv2.imshow('image2', img2)\n",
    "cv2.imshow('imAdd', imAdd)\n",
    "cv2.waitKey(0)\n",
    "cv2.destroyAllWindows()"
   ]
  },
  {
   "cell_type": "markdown",
   "id": "f84cc600-e701-4325-9a55-8f16df1a5224",
   "metadata": {},
   "source": [
    "subtraction"
   ]
  },
  {
   "cell_type": "code",
   "execution_count": 11,
   "id": "6cc5c90b-949f-4546-bc89-4c3712191e82",
   "metadata": {},
   "outputs": [],
   "source": [
    "subtracted_image = cv2.subtract(img1,img2)\n",
    "\n",
    "cv2.imshow('Image3', img1)\n",
    "cv2.imshow('Image4', img2)\n",
    "cv2.imshow('subtracted Image', subtracted_image)\n",
    "cv2.waitKey(0)\n",
    "cv2.destroyAllWindows()\n"
   ]
  },
  {
   "cell_type": "markdown",
   "id": "c07d1e0f-9a9a-466a-af54-61feaa4253fb",
   "metadata": {},
   "source": [
    "Multiplication And Division"
   ]
  },
  {
   "cell_type": "code",
   "execution_count": 12,
   "id": "e0357ce5-02ec-4a5c-8f52-00ee42bda1d1",
   "metadata": {},
   "outputs": [],
   "source": [
    "multiplied_image = cv2.multiply(img1, np.array([2]))\n",
    "\n",
    "divided_image = cv2.divide(img1, np.array([0.5]))\n",
    "\n",
    "cv2.imshow('image',img1)\n",
    "cv2.imshow('Multiplied Image',multiplied_image)\n",
    "cv2.imshow('Divided Image',divided_image)\n",
    "cv2.waitKey(0)\n",
    "cv2.destroyAllWindows()\n"
   ]
  },
  {
   "cell_type": "markdown",
   "id": "c85960f6-5194-4352-b73f-6dedf6f7a380",
   "metadata": {},
   "source": [
    "bitwise operations"
   ]
  },
  {
   "cell_type": "code",
   "execution_count": 13,
   "id": "e9d2e70b-f5cf-4116-a331-f7e6f36f655d",
   "metadata": {},
   "outputs": [],
   "source": [
    "image1 = np.zeros((300, 300, 3), dtype=np.uint8)\n",
    "image2 = np.zeros((300, 300, 3), dtype=np.uint8)\n",
    "\n",
    "cv2.rectangle(image1, (50, 50), (250, 250), (225, 225, 255), -1)\n",
    "\n",
    "cv2.circle(image2, (150, 150), 100, (225, 225, 255), -1)\n",
    "\n",
    "cv2.imshow('image1',image1)\n",
    "cv2.imshow('image2',image2)\n",
    "cv2.waitKey(0)\n",
    "cv2.destroyAllWindows()\n"
   ]
  },
  {
   "cell_type": "code",
   "execution_count": 14,
   "id": "ae8188e8-72e2-48ed-8286-96902fad82cc",
   "metadata": {},
   "outputs": [],
   "source": [
    "bitwise_and = cv2.bitwise_and(image1, image2,mask=None)"
   ]
  },
  {
   "cell_type": "code",
   "execution_count": 15,
   "id": "0fbc5ac7-1aeb-4e40-857c-413ae4c85280",
   "metadata": {},
   "outputs": [],
   "source": [
    "bitwise_or = cv2.bitwise_or(image1, image2,mask=None)"
   ]
  },
  {
   "cell_type": "code",
   "execution_count": 16,
   "id": "96a92e79-67ea-4ba6-9fef-bfbfab520bd0",
   "metadata": {},
   "outputs": [],
   "source": [
    "bitwise_xor = cv2.bitwise_xor(image1, image2,mask=None)"
   ]
  },
  {
   "cell_type": "code",
   "execution_count": 17,
   "id": "9bd7e910-bd37-49b5-b3ef-86d99948c27f",
   "metadata": {},
   "outputs": [],
   "source": [
    "bitwise_not = cv2.bitwise_not(image1 ,  mask=None)"
   ]
  },
  {
   "cell_type": "code",
   "execution_count": 18,
   "id": "b833bdf5-0ef5-4fcc-849f-2ce5ded3844f",
   "metadata": {},
   "outputs": [],
   "source": [
    "cv2.imshow('image1', image1)\n",
    "cv2.imshow('image2', image2)\n",
    "cv2.imshow('Bitwise AND',bitwise_and) \n",
    "cv2.imshow('Bitwise OR',bitwise_or)\n",
    "cv2.imshow('Bitwise XOR',bitwise_xor)\n",
    "cv2.imshow('Bitwise NOT',bitwise_not)\n",
    "cv2.waitKey(0)\n",
    "cv2.destroyAllWindows()\n"
   ]
  },
  {
   "cell_type": "code",
   "execution_count": null,
   "id": "2b786e66-e2ec-4ba7-b3ef-d01e450901b8",
   "metadata": {},
   "outputs": [],
   "source": []
  }
 ],
 "metadata": {
  "kernelspec": {
   "display_name": "Python 3 (ipykernel)",
   "language": "python",
   "name": "python3"
  },
  "language_info": {
   "codemirror_mode": {
    "name": "ipython",
    "version": 3
   },
   "file_extension": ".py",
   "mimetype": "text/x-python",
   "name": "python",
   "nbconvert_exporter": "python",
   "pygments_lexer": "ipython3",
   "version": "3.11.8"
  }
 },
 "nbformat": 4,
 "nbformat_minor": 5
}
