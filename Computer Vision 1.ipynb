{
 "cells": [
  {
   "cell_type": "code",
   "execution_count": 1,
   "id": "0fcf37b0-a1e9-4489-9237-72e313bb4396",
   "metadata": {
    "scrolled": true
   },
   "outputs": [
    {
     "name": "stdout",
     "output_type": "stream",
     "text": [
      "Requirement already satisfied: opencv-python in c:\\users\\admin\\anaconda3\\lib\\site-packages (4.10.0.84)\n",
      "Requirement already satisfied: numpy>=1.17.0 in c:\\users\\admin\\anaconda3\\lib\\site-packages (from opencv-python) (2.0.1)\n",
      "Note: you may need to restart the kernel to use updated packages.\n"
     ]
    },
    {
     "name": "stderr",
     "output_type": "stream",
     "text": [
      "WARNING: Ignoring invalid distribution -pencv-python (c:\\users\\admin\\anaconda3\\lib\\site-packages)\n",
      "WARNING: Ignoring invalid distribution -pencv-python (c:\\users\\admin\\anaconda3\\lib\\site-packages)\n",
      "WARNING: Ignoring invalid distribution -pencv-python (c:\\users\\admin\\anaconda3\\lib\\site-packages)\n",
      "WARNING: Ignoring invalid distribution -pencv-python (c:\\users\\admin\\anaconda3\\lib\\site-packages)\n",
      "WARNING: Ignoring invalid distribution -pencv-python (c:\\users\\admin\\anaconda3\\lib\\site-packages)\n",
      "WARNING: Ignoring invalid distribution -pencv-python (c:\\users\\admin\\anaconda3\\lib\\site-packages)\n"
     ]
    }
   ],
   "source": [
    "pip install opencv-python"
   ]
  },
  {
   "cell_type": "code",
   "execution_count": 2,
   "id": "cf6872bb",
   "metadata": {},
   "outputs": [
    {
     "name": "stdout",
     "output_type": "stream",
     "text": [
      "Requirement already satisfied: opencv--python in c:\\users\\admin\\anaconda3\\lib\\site-packages (4.10.0.84)\n",
      "Requirement already satisfied: numpy>=1.17.0 in c:\\users\\admin\\anaconda3\\lib\\site-packages (from opencv--python) (2.0.1)\n",
      "Note: you may need to restart the kernel to use updated packages.\n"
     ]
    },
    {
     "name": "stderr",
     "output_type": "stream",
     "text": [
      "WARNING: Ignoring invalid distribution -pencv-python (c:\\users\\admin\\anaconda3\\lib\\site-packages)\n",
      "WARNING: Ignoring invalid distribution -pencv-python (c:\\users\\admin\\anaconda3\\lib\\site-packages)\n",
      "WARNING: Ignoring invalid distribution -pencv-python (c:\\users\\admin\\anaconda3\\lib\\site-packages)\n",
      "WARNING: Ignoring invalid distribution -pencv-python (c:\\users\\admin\\anaconda3\\lib\\site-packages)\n",
      "WARNING: Ignoring invalid distribution -pencv-python (c:\\users\\admin\\anaconda3\\lib\\site-packages)\n",
      "WARNING: Ignoring invalid distribution -pencv-python (c:\\users\\admin\\anaconda3\\lib\\site-packages)\n"
     ]
    }
   ],
   "source": [
    "pip install --upgrade opencv--python"
   ]
  },
  {
   "cell_type": "code",
   "execution_count": 3,
   "id": "7d896002-e961-4fbc-8c4f-7e74de689d93",
   "metadata": {},
   "outputs": [],
   "source": [
    "import cv2"
   ]
  },
  {
   "cell_type": "code",
   "execution_count": 4,
   "id": "d340a327-bc70-4876-a087-8a87af78b16e",
   "metadata": {},
   "outputs": [
    {
     "data": {
      "text/plain": [
       "'4.10.0'"
      ]
     },
     "execution_count": 4,
     "metadata": {},
     "output_type": "execute_result"
    }
   ],
   "source": [
    "cv2.__version__"
   ]
  },
  {
   "cell_type": "code",
   "execution_count": 5,
   "id": "8f60dfb8-2a3c-42ba-b362-31f378daa9da",
   "metadata": {},
   "outputs": [],
   "source": [
    "import numpy as np"
   ]
  },
  {
   "cell_type": "code",
   "execution_count": 6,
   "id": "8473ba14-a0b9-41b9-be55-9353e0b68c56",
   "metadata": {},
   "outputs": [
    {
     "data": {
      "text/plain": [
       "'2.0.1'"
      ]
     },
     "execution_count": 6,
     "metadata": {},
     "output_type": "execute_result"
    }
   ],
   "source": [
    "np.__version__"
   ]
  },
  {
   "cell_type": "code",
   "execution_count": 7,
   "id": "f196120a-b474-4592-a09c-9cf250f08080",
   "metadata": {},
   "outputs": [
    {
     "name": "stdout",
     "output_type": "stream",
     "text": [
      "Requirement already satisfied: numpy in c:\\users\\admin\\anaconda3\\lib\\site-packages (2.0.1)Note: you may need to restart the kernel to use updated packages.\n"
     ]
    },
    {
     "name": "stderr",
     "output_type": "stream",
     "text": [
      "WARNING: Ignoring invalid distribution -pencv-python (c:\\users\\admin\\anaconda3\\lib\\site-packages)\n",
      "WARNING: Ignoring invalid distribution -pencv-python (c:\\users\\admin\\anaconda3\\lib\\site-packages)\n",
      "WARNING: Ignoring invalid distribution -pencv-python (c:\\users\\admin\\anaconda3\\lib\\site-packages)\n",
      "WARNING: Ignoring invalid distribution -pencv-python (c:\\users\\admin\\anaconda3\\lib\\site-packages)\n",
      "WARNING: Ignoring invalid distribution -pencv-python (c:\\users\\admin\\anaconda3\\lib\\site-packages)\n",
      "WARNING: Ignoring invalid distribution -pencv-python (c:\\users\\admin\\anaconda3\\lib\\site-packages)\n"
     ]
    },
    {
     "name": "stdout",
     "output_type": "stream",
     "text": [
      "\n"
     ]
    }
   ],
   "source": [
    "pip install --upgrade numpy"
   ]
  },
  {
   "cell_type": "code",
   "execution_count": 8,
   "id": "fca37490-4aa6-4609-a474-48b6592de740",
   "metadata": {},
   "outputs": [],
   "source": [
    "img =cv2.imread(\"C:\\\\Users\\\\ADMIN\\\\Guru balan\\\\hi.jpg\")"
   ]
  },
  {
   "cell_type": "code",
   "execution_count": 9,
   "id": "a2680dd7-52d3-41fa-a2a0-b284b7940129",
   "metadata": {},
   "outputs": [
    {
     "name": "stdout",
     "output_type": "stream",
     "text": [
      "[[[ 40  33  16]\n",
      "  [ 39  32  15]\n",
      "  [ 37  30  13]\n",
      "  ...\n",
      "  [105  63  40]\n",
      "  [105  63  40]\n",
      "  [105  63  40]]\n",
      "\n",
      " [[ 40  33  16]\n",
      "  [ 39  32  15]\n",
      "  [ 37  30  13]\n",
      "  ...\n",
      "  [105  63  40]\n",
      "  [105  63  40]\n",
      "  [105  63  40]]\n",
      "\n",
      " [[ 40  33  16]\n",
      "  [ 39  32  15]\n",
      "  [ 37  30  13]\n",
      "  ...\n",
      "  [105  63  40]\n",
      "  [105  63  40]\n",
      "  [105  63  40]]\n",
      "\n",
      " ...\n",
      "\n",
      " [[ 59  45  27]\n",
      "  [ 59  45  27]\n",
      "  [ 58  44  26]\n",
      "  ...\n",
      "  [ 30  22   5]\n",
      "  [ 21  15   2]\n",
      "  [ 18  14   3]]\n",
      "\n",
      " [[ 58  44  26]\n",
      "  [ 58  44  26]\n",
      "  [ 57  43  25]\n",
      "  ...\n",
      "  [ 31  24   7]\n",
      "  [ 17  13   2]\n",
      "  [ 15  13   3]]\n",
      "\n",
      " [[ 53  39  21]\n",
      "  [ 53  39  21]\n",
      "  [ 54  40  22]\n",
      "  ...\n",
      "  [ 41  37  19]\n",
      "  [ 27  23  12]\n",
      "  [ 22  20  10]]]\n"
     ]
    }
   ],
   "source": [
    "print(img)"
   ]
  },
  {
   "cell_type": "code",
   "execution_count": 10,
   "id": "81b240bd-c212-478c-a0a2-1573442062e0",
   "metadata": {},
   "outputs": [],
   "source": [
    "cv2.imshow(\"Omg\",img)\n",
    "cv2.waitKey(0)\n",
    "cv2.destroyAllWindows()"
   ]
  },
  {
   "cell_type": "code",
   "execution_count": 11,
   "id": "167ed5aa-a7c4-4dde-b95c-20fbf8c82ed5",
   "metadata": {},
   "outputs": [],
   "source": [
    "g = cv2.imread(\"C:\\\\Users\\\\ADMIN\\\\Guru balan\\\\hi.jpg\",0)"
   ]
  },
  {
   "cell_type": "code",
   "execution_count": 12,
   "id": "c5e61e43-4123-4274-88ed-c536f84d1de0",
   "metadata": {},
   "outputs": [
    {
     "data": {
      "text/plain": [
       "array([[29, 28, 26, ..., 61, 61, 61],\n",
       "       [29, 28, 26, ..., 61, 61, 61],\n",
       "       [29, 28, 26, ..., 61, 61, 61],\n",
       "       ...,\n",
       "       [41, 41, 40, ..., 18, 12, 11],\n",
       "       [40, 40, 39, ..., 20, 10, 10],\n",
       "       [35, 35, 36, ..., 32, 20, 17]], dtype=uint8)"
      ]
     },
     "execution_count": 12,
     "metadata": {},
     "output_type": "execute_result"
    }
   ],
   "source": [
    "g"
   ]
  },
  {
   "cell_type": "code",
   "execution_count": 13,
   "id": "76a1cc7a-3f9a-4ff5-8184-5677c44f4d02",
   "metadata": {},
   "outputs": [],
   "source": [
    "cv2.imshow(\"Omg\",g)\n",
    "cv2.waitKey(0)\n",
    "cv2.destroyAllWindows()"
   ]
  },
  {
   "cell_type": "code",
   "execution_count": 14,
   "id": "e5a460f2-c3b2-4906-ae28-df26bcbd63a4",
   "metadata": {},
   "outputs": [
    {
     "data": {
      "text/plain": [
       "True"
      ]
     },
     "execution_count": 14,
     "metadata": {},
     "output_type": "execute_result"
    }
   ],
   "source": [
    "cv2.imwrite(\"hhhh.jpg\",g)"
   ]
  },
  {
   "cell_type": "code",
   "execution_count": 15,
   "id": "b16e95cc-b8fe-43c1-907c-2f8d2fe32832",
   "metadata": {},
   "outputs": [],
   "source": [
    "#COlor Space change"
   ]
  },
  {
   "cell_type": "code",
   "execution_count": 16,
   "id": "22160374-04cd-458d-9db8-5f9d0cb7682e",
   "metadata": {},
   "outputs": [],
   "source": [
    "colours_avl  =[i for i in dir(cv2) if i .startswith(\"COLOR_BGR\")]"
   ]
  },
  {
   "cell_type": "code",
   "execution_count": 17,
   "id": "f0eb0398-d2a9-4abb-8566-c88ac0740642",
   "metadata": {},
   "outputs": [
    {
     "name": "stdout",
     "output_type": "stream",
     "text": [
      "['COLOR_BGR2BGR555', 'COLOR_BGR2BGR565', 'COLOR_BGR2BGRA', 'COLOR_BGR2GRAY', 'COLOR_BGR2HLS', 'COLOR_BGR2HLS_FULL', 'COLOR_BGR2HSV', 'COLOR_BGR2HSV_FULL', 'COLOR_BGR2LAB', 'COLOR_BGR2LUV', 'COLOR_BGR2Lab', 'COLOR_BGR2Luv', 'COLOR_BGR2RGB', 'COLOR_BGR2RGBA', 'COLOR_BGR2XYZ', 'COLOR_BGR2YCR_CB', 'COLOR_BGR2YCrCb', 'COLOR_BGR2YUV', 'COLOR_BGR2YUV_I420', 'COLOR_BGR2YUV_IYUV', 'COLOR_BGR2YUV_UYNV', 'COLOR_BGR2YUV_UYVY', 'COLOR_BGR2YUV_Y422', 'COLOR_BGR2YUV_YUNV', 'COLOR_BGR2YUV_YUY2', 'COLOR_BGR2YUV_YUYV', 'COLOR_BGR2YUV_YV12', 'COLOR_BGR2YUV_YVYU', 'COLOR_BGR5552BGR', 'COLOR_BGR5552BGRA', 'COLOR_BGR5552GRAY', 'COLOR_BGR5552RGB', 'COLOR_BGR5552RGBA', 'COLOR_BGR5652BGR', 'COLOR_BGR5652BGRA', 'COLOR_BGR5652GRAY', 'COLOR_BGR5652RGB', 'COLOR_BGR5652RGBA', 'COLOR_BGRA2BGR', 'COLOR_BGRA2BGR555', 'COLOR_BGRA2BGR565', 'COLOR_BGRA2GRAY', 'COLOR_BGRA2RGB', 'COLOR_BGRA2RGBA', 'COLOR_BGRA2YUV_I420', 'COLOR_BGRA2YUV_IYUV', 'COLOR_BGRA2YUV_UYNV', 'COLOR_BGRA2YUV_UYVY', 'COLOR_BGRA2YUV_Y422', 'COLOR_BGRA2YUV_YUNV', 'COLOR_BGRA2YUV_YUY2', 'COLOR_BGRA2YUV_YUYV', 'COLOR_BGRA2YUV_YV12', 'COLOR_BGRA2YUV_YVYU']\n"
     ]
    }
   ],
   "source": [
    "print(colours_avl)"
   ]
  },
  {
   "cell_type": "code",
   "execution_count": 18,
   "id": "15cfc489-a285-4647-bb62-f9a842d0bea7",
   "metadata": {},
   "outputs": [
    {
     "name": "stdout",
     "output_type": "stream",
     "text": [
      "54\n"
     ]
    }
   ],
   "source": [
    "print(len(colours_avl))"
   ]
  },
  {
   "cell_type": "code",
   "execution_count": 19,
   "id": "593e51cb-c883-4e28-845b-dac6303a058e",
   "metadata": {},
   "outputs": [],
   "source": [
    "img1 = cv2.imread('C:\\\\Users\\\\ADMIN\\\\Guru balan\\\\hi.jpg')"
   ]
  },
  {
   "cell_type": "code",
   "execution_count": 20,
   "id": "6189bf83-9eba-4631-936d-e6afbb5662bd",
   "metadata": {},
   "outputs": [
    {
     "data": {
      "text/plain": [
       "array([[[ 40,  33,  16],\n",
       "        [ 39,  32,  15],\n",
       "        [ 37,  30,  13],\n",
       "        ...,\n",
       "        [105,  63,  40],\n",
       "        [105,  63,  40],\n",
       "        [105,  63,  40]],\n",
       "\n",
       "       [[ 40,  33,  16],\n",
       "        [ 39,  32,  15],\n",
       "        [ 37,  30,  13],\n",
       "        ...,\n",
       "        [105,  63,  40],\n",
       "        [105,  63,  40],\n",
       "        [105,  63,  40]],\n",
       "\n",
       "       [[ 40,  33,  16],\n",
       "        [ 39,  32,  15],\n",
       "        [ 37,  30,  13],\n",
       "        ...,\n",
       "        [105,  63,  40],\n",
       "        [105,  63,  40],\n",
       "        [105,  63,  40]],\n",
       "\n",
       "       ...,\n",
       "\n",
       "       [[ 59,  45,  27],\n",
       "        [ 59,  45,  27],\n",
       "        [ 58,  44,  26],\n",
       "        ...,\n",
       "        [ 30,  22,   5],\n",
       "        [ 21,  15,   2],\n",
       "        [ 18,  14,   3]],\n",
       "\n",
       "       [[ 58,  44,  26],\n",
       "        [ 58,  44,  26],\n",
       "        [ 57,  43,  25],\n",
       "        ...,\n",
       "        [ 31,  24,   7],\n",
       "        [ 17,  13,   2],\n",
       "        [ 15,  13,   3]],\n",
       "\n",
       "       [[ 53,  39,  21],\n",
       "        [ 53,  39,  21],\n",
       "        [ 54,  40,  22],\n",
       "        ...,\n",
       "        [ 41,  37,  19],\n",
       "        [ 27,  23,  12],\n",
       "        [ 22,  20,  10]]], dtype=uint8)"
      ]
     },
     "execution_count": 20,
     "metadata": {},
     "output_type": "execute_result"
    }
   ],
   "source": [
    "img1"
   ]
  },
  {
   "cell_type": "code",
   "execution_count": 21,
   "id": "35e862ac-6221-4d16-8480-33b9226cdeeb",
   "metadata": {},
   "outputs": [],
   "source": [
    "gray = cv2.cvtColor(img1,cv2.COLOR_BGR2GRAY)\n",
    "hsv = cv2.cvtColor(img1,cv2.COLOR_BGR2HSV)\n",
    "rgb = cv2.cvtColor(img1,cv2.COLOR_BGR2RGB)\n"
   ]
  },
  {
   "cell_type": "code",
   "execution_count": 22,
   "id": "ce98a426-d28f-4903-89b6-8dc22852b333",
   "metadata": {},
   "outputs": [],
   "source": [
    "cv2.imshow(\"gray\",gray)\n",
    "cv2.imshow(\"hsv\",hsv)\n",
    "cv2.imshow(\"RGB\",rgb)\n",
    "cv2.waitKey(0)\n",
    "cv2.destroyAllWindows()"
   ]
  },
  {
   "cell_type": "code",
   "execution_count": null,
   "id": "43fac1c1-c765-4905-a6d3-ec394b73712e",
   "metadata": {},
   "outputs": [],
   "source": []
  }
 ],
 "metadata": {
  "kernelspec": {
   "display_name": "Python 3 (ipykernel)",
   "language": "python",
   "name": "python3"
  },
  "language_info": {
   "codemirror_mode": {
    "name": "ipython",
    "version": 3
   },
   "file_extension": ".py",
   "mimetype": "text/x-python",
   "name": "python",
   "nbconvert_exporter": "python",
   "pygments_lexer": "ipython3",
   "version": "3.11.8"
  }
 },
 "nbformat": 4,
 "nbformat_minor": 5
}
